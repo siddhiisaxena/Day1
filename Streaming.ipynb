{
 "cells": [
  {
   "cell_type": "code",
   "execution_count": 0,
   "metadata": {
    "application/vnd.databricks.v1+cell": {
     "cellMetadata": {
      "byteLimit": 2048000,
      "rowLimit": 10000
     },
     "inputWidgets": {},
     "nuid": "54506881-1de9-48e5-a740-27a6eda93faf",
     "showTitle": false,
     "title": ""
    }
   },
   "outputs": [],
   "source": [
    "%fs ls"
   ]
  },
  {
   "cell_type": "markdown",
   "metadata": {
    "application/vnd.databricks.v1+cell": {
     "cellMetadata": {},
     "inputWidgets": {},
     "nuid": "84f416be-8e52-4288-839b-f741803d970d",
     "showTitle": false,
     "title": ""
    }
   },
   "source": [
    "##### For Batch\n",
    "**Read:**\n",
    "df = spark.read.csv(\"path\")\n",
    "\n",
    "**Write:**\n",
    "df.write.parquet(\"path\")\n",
    "\n",
    "\n",
    "##### For Streaming\n",
    "replace read with readStream & write with writeStream"
   ]
  },
  {
   "cell_type": "code",
   "execution_count": 0,
   "metadata": {
    "application/vnd.databricks.v1+cell": {
     "cellMetadata": {
      "byteLimit": 2048000,
      "rowLimit": 10000
     },
     "inputWidgets": {},
     "nuid": "e0f20e12-f744-4e44-a63b-22693e3fb8a7",
     "showTitle": false,
     "title": ""
    }
   },
   "outputs": [],
   "source": [
    "dbutils.fs.mount(\n",
    "  source = \"wasbs://inputfiles@saunext.blob.core.windows.net\",\n",
    "  mount_point = \"/mnt/saunext/inputfiles\",\n",
    "  extra_configs = {\"fs.azure.account.key.saunext.blob.core.windows.net\":\"UUDMjjk8JYIiTwHNyh8WCs3BShkfIL//HM/cUrbOrRmUH+HaoR/J5bM9MlWTYefbkqNo/bQzgs1M+AStEn3dkA==\"})"
   ]
  },
  {
   "cell_type": "code",
   "execution_count": 0,
   "metadata": {
    "application/vnd.databricks.v1+cell": {
     "cellMetadata": {
      "byteLimit": 2048000,
      "rowLimit": 10000
     },
     "inputWidgets": {},
     "nuid": "a2501ff0-589d-4a61-bd7e-682f175ca87d",
     "showTitle": false,
     "title": ""
    }
   },
   "outputs": [],
   "source": [
    "schema = \"timestamp timestamp, event_type string, user_id string, page_id string\"\n",
    "df = spark.readStream.schema(schema).json(\"dbfs:/mnt/saunext/inputfiles/inputstream/\")"
   ]
  },
  {
   "cell_type": "code",
   "execution_count": 0,
   "metadata": {
    "application/vnd.databricks.v1+cell": {
     "cellMetadata": {
      "byteLimit": 2048000,
      "rowLimit": 10000
     },
     "inputWidgets": {},
     "nuid": "6d9b4108-dedb-4ac0-a21f-eca5199730fe",
     "showTitle": false,
     "title": ""
    }
   },
   "outputs": [],
   "source": [
    "df.display()"
   ]
  },
  {
   "cell_type": "code",
   "execution_count": 0,
   "metadata": {
    "application/vnd.databricks.v1+cell": {
     "cellMetadata": {
      "byteLimit": 2048000,
      "rowLimit": 10000
     },
     "inputWidgets": {},
     "nuid": "bc850bd3-7ed7-4479-b93e-6eb88803af75",
     "showTitle": false,
     "title": ""
    }
   },
   "outputs": [],
   "source": [
    "df.writeStream\\\n",
    ".option(\"checkpointlocation\", \"dbfs:/mnt/saunext/inputfiles/outputstream/Saumya/checkpoint\")\\\n",
    ".option(\"path\", \"dbfs:/mnt/saunext/inputfiles/outputstream/Saumya/output\")\\\n",
    ".table(\"test.jsonSample\")"
   ]
  },
  {
   "cell_type": "code",
   "execution_count": 0,
   "metadata": {
    "application/vnd.databricks.v1+cell": {
     "cellMetadata": {
      "byteLimit": 2048000,
      "implicitDf": true,
      "rowLimit": 10000
     },
     "inputWidgets": {},
     "nuid": "5845510d-485a-400b-aa4e-c3b290fc7eca",
     "showTitle": false,
     "title": ""
    }
   },
   "outputs": [],
   "source": [
    "%sql\n",
    "select * from test.jsonsample"
   ]
  },
  {
   "cell_type": "code",
   "execution_count": 0,
   "metadata": {
    "application/vnd.databricks.v1+cell": {
     "cellMetadata": {
      "byteLimit": 2048000,
      "rowLimit": 10000
     },
     "inputWidgets": {},
     "nuid": "60a4b753-03e0-495e-806e-5023000f39a8",
     "showTitle": false,
     "title": ""
    }
   },
   "outputs": [],
   "source": [
    "df = spark.read.format(\"delta\").load(\"dbfs:/mnt/saunext/inputfiles/outputstream/Saumya/output\")"
   ]
  },
  {
   "cell_type": "code",
   "execution_count": 0,
   "metadata": {
    "application/vnd.databricks.v1+cell": {
     "cellMetadata": {
      "byteLimit": 2048000,
      "rowLimit": 10000
     },
     "inputWidgets": {},
     "nuid": "75e73463-becf-4d44-a0dd-e46aa8b9557e",
     "showTitle": false,
     "title": ""
    }
   },
   "outputs": [],
   "source": [
    "df.drop(\"page_id\").show()"
   ]
  },
  {
   "cell_type": "code",
   "execution_count": 0,
   "metadata": {
    "application/vnd.databricks.v1+cell": {
     "cellMetadata": {
      "byteLimit": 2048000,
      "rowLimit": 10000
     },
     "inputWidgets": {},
     "nuid": "b0cb54ee-a1f4-41f7-968f-9cfe2c4787a9",
     "showTitle": false,
     "title": ""
    }
   },
   "outputs": [],
   "source": [
    "for stream in spark.streams.active:\n",
    "    stream.stop()\n"
   ]
  },
  {
   "cell_type": "code",
   "execution_count": 0,
   "metadata": {
    "application/vnd.databricks.v1+cell": {
     "cellMetadata": {
      "byteLimit": 2048000,
      "rowLimit": 10000
     },
     "inputWidgets": {},
     "nuid": "a4b90e11-3917-48a1-abb3-763aec48a110",
     "showTitle": false,
     "title": ""
    }
   },
   "outputs": [],
   "source": [
    "(spark\n",
    ".readStream\n",
    ".schema(schema)\n",
    ".json(\"dbfs:/mnt/saunext/inputfiles/inputstream/\")\n",
    ".writeStream\n",
    ".option(\"checkpointlocation\", \"dbfs:/mnt/saunext/inputfiles/outputstream/Saumya/checkpoint\")\\\n",
    ".option(\"path\", \"dbfs:/mnt/saunext/inputfiles/outputstream/Saumya/output\")\\\n",
    ".trigger(once = True)\\\n",
    ".table(\"test.jsonSample\")\n",
    ")"
   ]
  },
  {
   "cell_type": "code",
   "execution_count": 0,
   "metadata": {
    "application/vnd.databricks.v1+cell": {
     "cellMetadata": {},
     "inputWidgets": {},
     "nuid": "3360a827-f61e-44f4-b555-4c762c72c303",
     "showTitle": false,
     "title": ""
    }
   },
   "outputs": [],
   "source": []
  }
 ],
 "metadata": {
  "application/vnd.databricks.v1+notebook": {
   "dashboards": [],
   "language": "python",
   "notebookMetadata": {
    "mostRecentlyExecutedCommandWithImplicitDF": {
     "commandId": 130226373252413,
     "dataframes": [
      "_sqldf"
     ]
    },
    "pythonIndentUnit": 4
   },
   "notebookName": "Streaming",
   "widgets": {}
  }
 },
 "nbformat": 4,
 "nbformat_minor": 0
}
